{
 "cells": [
  {
   "cell_type": "markdown",
   "metadata": {},
   "source": [
    "# Introdução"
   ]
  },
  {
   "cell_type": "markdown",
   "metadata": {},
   "source": [
    "Este trabalho tem como objetivo contribuir com a produção acadêmica do professor Jonas Silveira em tarefas que envolvem tratamento e análise de dados. A pesquisa busca estudar e analisar índices nutricionais em lactentes e pré-lactentes de ambos os sexos em todo o Brasil. O projeto busca automatizar algumas etapas dessa pesquisa, no que diz respeito aos dados envolvidos na pesquisa. Esses dados são apresentados em uma forma que não contribui para a utilização em softwares de análise de dados, dificultando assim a análise desses dados."
   ]
  },
  {
   "cell_type": "markdown",
   "metadata": {},
   "source": [
    "Sabe-se que o tratamento de dados pode ter um elevado custo de tempo ao pesquisador e nosso objetivo, em face disso, é contribuir, agilizar e automatizar a coleta, o tratamento, análise e apresentação dos dados.   "
   ]
  },
  {
   "cell_type": "markdown",
   "metadata": {},
   "source": [
    "# Metodologia"
   ]
  },
  {
   "cell_type": "markdown",
   "metadata": {},
   "source": [
    "Coletar os dados do SISVAN (Sistema de Vigilância Alimentar e Nutricional) através de WebScraping, usando Selenium, uma biblioteca para automatização de tarefas nos navegadores web, para baixar os relatórios de maneira mais rápida e eficiente. "
   ]
  },
  {
   "cell_type": "markdown",
   "metadata": {},
   "source": [
    "Os dados coletados serão apenas os de lactentes e pré-lactentes, isto é, de crianças de 0 a 2 anos, separando os relatórios entre masculino e feminino, dos anos 2008 até 2018. Os dados de 2019 ainda não estão concluídos e por isso não serão utilizados."
   ]
  },
  {
   "cell_type": "markdown",
   "metadata": {},
   "source": [
    "Esses relatórios gerados e baixados no site do SISVAN vêm em um formato que de difícil utilização por softwares de análise de dados, como por exemplo o STATA (software utilizado pelo pesquisador). Por isso, é necessário organizar esses relatórios, mesclando todos em um único dataframe. Serão organizados usando a biblioteca Pandas."
   ]
  },
  {
   "cell_type": "markdown",
   "metadata": {},
   "source": [
    "Nesse dataframe, iremos remover as colunas de percentuais, e incluir uma coluna de ano e uma coluna de sexo."
   ]
  },
  {
   "cell_type": "markdown",
   "metadata": {},
   "source": [
    "O cabeçalho da tabela recebido vem neste formato:\n",
    "<img src=\"tabela antiga.png\">\n",
    "\n",
    "O cabeçalho da tabela, então, ficará assim:\n",
    "<img src=\"tabela nova.png\">"
   ]
  },
  {
   "cell_type": "markdown",
   "metadata": {},
   "source": [
    "Os dados também serão armazenados em um banco de dados e organizados usando modelagem relacional. O código IBGE será as chaves primária e estrangeira do banco de dados. Ou seja, usaremos o código IBGE como uma ponte entre as duas tabelas.\n",
    "\n",
    "Como representado abaixo:\n",
    "\n",
    "<img src=\"chave 1.png\">\n",
    "\n",
    "<img src=\"chave 2.png\">\n",
    "\n"
   ]
  },
  {
   "cell_type": "markdown",
   "metadata": {},
   "source": [
    "Com os dados organizados, será feita uma análise exploratória dos dados para análise. Usaremos também estatística descritiva para as análises."
   ]
  },
  {
   "cell_type": "markdown",
   "metadata": {},
   "source": [
    "Usaremos também a biblioteca Plotly no Python 3.7, para apresentação dos dados em forma de gráficos e mapas."
   ]
  },
  {
   "cell_type": "markdown",
   "metadata": {},
   "source": [
    "Os gráficos gerados serão principalmente histogramas, boxplots, gráfico de barra, série temporal e mapa coroplético. Um exemplo de mapa coroplético abaixo:\n",
    "\n",
    "<img src=\"brasil.png\">"
   ]
  },
  {
   "cell_type": "markdown",
   "metadata": {},
   "source": [
    "# Resultados"
   ]
  },
  {
   "cell_type": "markdown",
   "metadata": {},
   "source": [
    "Os resultados serão disponibilizados à medida em que o cronograma de desenvolvimento for sendo executado."
   ]
  }
 ],
 "metadata": {
  "kernelspec": {
   "display_name": "Python 3",
   "language": "python",
   "name": "python3"
  },
  "language_info": {
   "codemirror_mode": {
    "name": "ipython",
    "version": 3
   },
   "file_extension": ".py",
   "mimetype": "text/x-python",
   "name": "python",
   "nbconvert_exporter": "python",
   "pygments_lexer": "ipython3",
   "version": "3.7.0"
  }
 },
 "nbformat": 4,
 "nbformat_minor": 2
}
