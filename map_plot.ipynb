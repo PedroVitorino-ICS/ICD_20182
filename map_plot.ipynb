{
 "cells": [
  {
   "cell_type": "code",
   "execution_count": 7,
   "metadata": {},
   "outputs": [],
   "source": [
    "import geopandas as gpd\n",
    "import pandas as pd"
   ]
  },
  {
   "cell_type": "code",
   "execution_count": 19,
   "metadata": {},
   "outputs": [
    {
     "data": {
      "text/html": [
       "<div>\n",
       "<style scoped>\n",
       "    .dataframe tbody tr th:only-of-type {\n",
       "        vertical-align: middle;\n",
       "    }\n",
       "\n",
       "    .dataframe tbody tr th {\n",
       "        vertical-align: top;\n",
       "    }\n",
       "\n",
       "    .dataframe thead th {\n",
       "        text-align: right;\n",
       "    }\n",
       "</style>\n",
       "<table border=\"1\" class=\"dataframe\">\n",
       "  <thead>\n",
       "    <tr style=\"text-align: right;\">\n",
       "      <th></th>\n",
       "      <th>ESTADOS</th>\n",
       "      <th>REGIAO</th>\n",
       "      <th>COD_UF</th>\n",
       "      <th>UF</th>\n",
       "      <th>geometry</th>\n",
       "    </tr>\n",
       "  </thead>\n",
       "  <tbody>\n",
       "    <tr>\n",
       "      <th>0</th>\n",
       "      <td>Acre</td>\n",
       "      <td>Norte</td>\n",
       "      <td>12.0</td>\n",
       "      <td>AC</td>\n",
       "      <td>POLYGON ((-73.8009788422554 -7.111452561913211...</td>\n",
       "    </tr>\n",
       "    <tr>\n",
       "      <th>1</th>\n",
       "      <td>Alagoas</td>\n",
       "      <td>Nordeste</td>\n",
       "      <td>27.0</td>\n",
       "      <td>AL</td>\n",
       "      <td>(POLYGON ((-36.39119330741482 -10.500822065069...</td>\n",
       "    </tr>\n",
       "    <tr>\n",
       "      <th>2</th>\n",
       "      <td>Amapá</td>\n",
       "      <td>Norte</td>\n",
       "      <td>16.0</td>\n",
       "      <td>AP</td>\n",
       "      <td>(POLYGON ((-51.37380232136843 -0.3705300556351...</td>\n",
       "    </tr>\n",
       "    <tr>\n",
       "      <th>3</th>\n",
       "      <td>Amazonas</td>\n",
       "      <td>Norte</td>\n",
       "      <td>13.0</td>\n",
       "      <td>AM</td>\n",
       "      <td>POLYGON ((-73.8009788422554 -7.111452561913211...</td>\n",
       "    </tr>\n",
       "    <tr>\n",
       "      <th>4</th>\n",
       "      <td>Bahia</td>\n",
       "      <td>Nordeste</td>\n",
       "      <td>29.0</td>\n",
       "      <td>BA</td>\n",
       "      <td>(POLYGON ((-46.32975031667081 -13.252483567632...</td>\n",
       "    </tr>\n",
       "  </tbody>\n",
       "</table>\n",
       "</div>"
      ],
      "text/plain": [
       "    ESTADOS    REGIAO  COD_UF  UF  \\\n",
       "0      Acre     Norte    12.0  AC   \n",
       "1   Alagoas  Nordeste    27.0  AL   \n",
       "2     Amapá     Norte    16.0  AP   \n",
       "3  Amazonas     Norte    13.0  AM   \n",
       "4     Bahia  Nordeste    29.0  BA   \n",
       "\n",
       "                                            geometry  \n",
       "0  POLYGON ((-73.8009788422554 -7.111452561913211...  \n",
       "1  (POLYGON ((-36.39119330741482 -10.500822065069...  \n",
       "2  (POLYGON ((-51.37380232136843 -0.3705300556351...  \n",
       "3  POLYGON ((-73.8009788422554 -7.111452561913211...  \n",
       "4  (POLYGON ((-46.32975031667081 -13.252483567632...  "
      ]
     },
     "execution_count": 19,
     "metadata": {},
     "output_type": "execute_result"
    }
   ],
   "source": [
    "geodf = gpd.read_file(\"Brasil.shp\")\n",
    "geodf.head()"
   ]
  },
  {
   "cell_type": "code",
   "execution_count": 20,
   "metadata": {},
   "outputs": [
    {
     "data": {
      "text/plain": [
       "<matplotlib.axes._subplots.AxesSubplot at 0x22c017f38d0>"
      ]
     },
     "execution_count": 20,
     "metadata": {},
     "output_type": "execute_result"
    },
    {
     "data": {
      "image/png": "[encoded data removed]",
      "text/plain": [
       "<Figure size 432x288 with 1 Axes>"
      ]
     },
     "metadata": {
      "needs_background": "light"
     },
     "output_type": "display_data"
    }
   ],
   "source": [
    "geodf.plot()"
   ]
  },
  {
   "cell_type": "code",
   "execution_count": 9,
   "metadata": {},
   "outputs": [
    {
     "data": {
      "text/html": [
       "<div>\n",
       "<style scoped>\n",
       "    .dataframe tbody tr th:only-of-type {\n",
       "        vertical-align: middle;\n",
       "    }\n",
       "\n",
       "    .dataframe tbody tr th {\n",
       "        vertical-align: top;\n",
       "    }\n",
       "\n",
       "    .dataframe thead th {\n",
       "        text-align: right;\n",
       "    }\n",
       "</style>\n",
       "<table border=\"1\" class=\"dataframe\">\n",
       "  <thead>\n",
       "    <tr style=\"text-align: right;\">\n",
       "      <th></th>\n",
       "      <th>Unnamed: 0</th>\n",
       "      <th>ano</th>\n",
       "      <th>região</th>\n",
       "      <th>cod uf</th>\n",
       "      <th>uf</th>\n",
       "      <th>cod ibge</th>\n",
       "      <th>município</th>\n",
       "      <th>sexo</th>\n",
       "      <th>peso muito baixo</th>\n",
       "      <th>peso baixo</th>\n",
       "      <th>peso adequado</th>\n",
       "      <th>peso elevado</th>\n",
       "      <th>total</th>\n",
       "    </tr>\n",
       "  </thead>\n",
       "  <tbody>\n",
       "    <tr>\n",
       "      <th>0</th>\n",
       "      <td>0</td>\n",
       "      <td>2009</td>\n",
       "      <td>CENTRO-OESTE</td>\n",
       "      <td>53.0</td>\n",
       "      <td>DF</td>\n",
       "      <td>530010.0</td>\n",
       "      <td>BRASILIA</td>\n",
       "      <td>M</td>\n",
       "      <td>0.0</td>\n",
       "      <td>1.0</td>\n",
       "      <td>9.0</td>\n",
       "      <td>0.0</td>\n",
       "      <td>10.0</td>\n",
       "    </tr>\n",
       "    <tr>\n",
       "      <th>1</th>\n",
       "      <td>2</td>\n",
       "      <td>2009</td>\n",
       "      <td>CENTRO-OESTE</td>\n",
       "      <td>52.0</td>\n",
       "      <td>GO</td>\n",
       "      <td>520005.0</td>\n",
       "      <td>ABADIA DE GOIAS</td>\n",
       "      <td>M</td>\n",
       "      <td>0.0</td>\n",
       "      <td>0.0</td>\n",
       "      <td>3.0</td>\n",
       "      <td>0.0</td>\n",
       "      <td>3.0</td>\n",
       "    </tr>\n",
       "    <tr>\n",
       "      <th>2</th>\n",
       "      <td>3</td>\n",
       "      <td>2009</td>\n",
       "      <td>CENTRO-OESTE</td>\n",
       "      <td>52.0</td>\n",
       "      <td>GO</td>\n",
       "      <td>520010.0</td>\n",
       "      <td>ABADIANIA</td>\n",
       "      <td>M</td>\n",
       "      <td>0.0</td>\n",
       "      <td>1.0</td>\n",
       "      <td>12.0</td>\n",
       "      <td>1.0</td>\n",
       "      <td>14.0</td>\n",
       "    </tr>\n",
       "    <tr>\n",
       "      <th>3</th>\n",
       "      <td>4</td>\n",
       "      <td>2009</td>\n",
       "      <td>CENTRO-OESTE</td>\n",
       "      <td>52.0</td>\n",
       "      <td>GO</td>\n",
       "      <td>520013.0</td>\n",
       "      <td>ACREUNA</td>\n",
       "      <td>M</td>\n",
       "      <td>0.0</td>\n",
       "      <td>0.0</td>\n",
       "      <td>24.0</td>\n",
       "      <td>3.0</td>\n",
       "      <td>27.0</td>\n",
       "    </tr>\n",
       "    <tr>\n",
       "      <th>4</th>\n",
       "      <td>5</td>\n",
       "      <td>2009</td>\n",
       "      <td>CENTRO-OESTE</td>\n",
       "      <td>52.0</td>\n",
       "      <td>GO</td>\n",
       "      <td>520015.0</td>\n",
       "      <td>ADELANDIA</td>\n",
       "      <td>M</td>\n",
       "      <td>0.0</td>\n",
       "      <td>0.0</td>\n",
       "      <td>0.0</td>\n",
       "      <td>0.0</td>\n",
       "      <td>0.0</td>\n",
       "    </tr>\n",
       "  </tbody>\n",
       "</table>\n",
       "</div>"
      ],
      "text/plain": [
       "   Unnamed: 0   ano        região  cod uf  uf  cod ibge        município sexo  \\\n",
       "0           0  2009  CENTRO-OESTE    53.0  DF  530010.0         BRASILIA    M   \n",
       "1           2  2009  CENTRO-OESTE    52.0  GO  520005.0  ABADIA DE GOIAS    M   \n",
       "2           3  2009  CENTRO-OESTE    52.0  GO  520010.0        ABADIANIA    M   \n",
       "3           4  2009  CENTRO-OESTE    52.0  GO  520013.0          ACREUNA    M   \n",
       "4           5  2009  CENTRO-OESTE    52.0  GO  520015.0        ADELANDIA    M   \n",
       "\n",
       "   peso muito baixo  peso baixo  peso adequado  peso elevado  total  \n",
       "0               0.0         1.0            9.0           0.0   10.0  \n",
       "1               0.0         0.0            3.0           0.0    3.0  \n",
       "2               0.0         1.0           12.0           1.0   14.0  \n",
       "3               0.0         0.0           24.0           3.0   27.0  \n",
       "4               0.0         0.0            0.0           0.0    0.0  "
      ]
     },
     "execution_count": 9,
     "metadata": {},
     "output_type": "execute_result"
    }
   ],
   "source": [
    "df = pd.read_csv('../DfUnic.csv')\n",
    "df.head()"
   ]
  }
 ],
 "metadata": {
  "kernelspec": {
   "display_name": "Python 3",
   "language": "python",
   "name": "python3"
  },
  "language_info": {
   "codemirror_mode": {
    "name": "ipython",
    "version": 3
   },
   "file_extension": ".py",
   "mimetype": "text/x-python",
   "name": "python",
   "nbconvert_exporter": "python",
   "pygments_lexer": "ipython3",
   "version": "3.7.0"
  }
 },
 "nbformat": 4,
 "nbformat_minor": 2
}
