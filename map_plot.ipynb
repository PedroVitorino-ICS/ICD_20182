{
 "cells": [
  {
   "cell_type": "markdown",
   "metadata": {},
   "source": [
    "## Introdução ##"
   ]
  },
  {
   "cell_type": "markdown",
   "metadata": {},
   "source": [
    "O acompanhamento nutricional de lactentes e pré-lactentes é um interesse nacional, pois pode revelar verdades sociais e econômicas, além de nutricionais, a respeito de cidades e Estados no Brasil. Também diz respeito a saúde das crianças e das gestantes do Brasil. \n",
    "\n",
    "No entanto, esse trabalho é dificultado pelo formato como esses dados são apresentados. Mesmo com o decreto nº 8.777 de 11 de Maio e 2016 (Decreto da política de dados abertos), um importante avanço na legislação brasileira em relação à transparência e à cultura de dados abertos, muitas vezes os dados não são apresentados em um formato facilmente processável por máquina. \n",
    "\n",
    "Esse caso é verdade para os dados apresentados no site do [SISVAN](http://dabsistemas.saude.gov.br/sistemas/sisvanV2/relatoriopublico/index), que são disponibilizados como relatórios em planilhas, que precisam ser baixadas através do preenchimento de um formulário. Este trabalho tem o objetivo de contribuir com a produção acadêmica do professor Dr. Jonas Silveira, que deseja esses dados em um formato de fácil utilização. \n"
   ]
  },
  {
   "cell_type": "markdown",
   "metadata": {},
   "source": [
    "## Coletando os dados ##\n",
    "\n",
    "A primeira etapa, naturalmente, é a de baixar os dados pelo site do SISVAN. No entanto, pela quantidade de relatórios, é um processo demorado e maçante. Por isso, foi necessário automatizar esse trabalho através de uma técnica que pudesse baixar os relatórios automaticamente. A técnica em questão é o WebScraping, que permite coletar dados de páginas da internet de forma automatizada. A ferramenta utilizada foi a biblioteca [Selenium](https://www.seleniumhq.org), que automatiza o uso do navegador e simula cliques como um usuário.\n",
    "\n",
    "O código do WebScraper pode ser encontrado [aqui](https://github.com/victoraccete/ICD_20182/tree/webScraper). Importante destacar que os relatórios baixados vão automaticamente para o diretório de downloads do seu navegador. Por padrão, é a pasta Downloads. "
   ]
  },
  {
   "cell_type": "markdown",
   "metadata": {},
   "source": [
    "## Organizando os dados ##\n",
    "\n",
    "Como citado anteriormente, os dados não vêm no melhor formato possível para a utilização. Foi necessário ler os relatórios baixados no formato .xls, transformando em um dataframe possível de ser tratado em Python em conjunto com a biblioteca [Pandas](https://pandas.pydata.org). \n",
    "\n",
    "O próximo passo foi remover colunas descenessárias. No entanto, ainda assim, teríamos vários conjuntos de dados separados, o que dificultaria a análise. Felizmente, é possível mesclar esses dados e transformar tudo em um único conjunto de dados e exportá-los como um arquivo de valores separados por vírgula, mais conhecido como arquivo csv, um formato de arquivo amplamente utilizado para dados.  "
   ]
  },
  {
   "cell_type": "markdown",
   "metadata": {},
   "source": [
    "O código completo para ser executado de uma só vez por ser encontrado [aqui](https://github.com/victoraccete/ICD_20182/blob/final_notebook/cleanandmerge.py). "
   ]
  },
  {
   "cell_type": "markdown",
   "metadata": {},
   "source": [
    "## Apresentando os dados ##\n",
    "\n",
    "A visualização em mapas acelera a obtenção dos primeiros insights à respeito da pesquisa e a interatividade do mapa permite com que o usuário ou pesquisador escolha o que deseja visualizar com mais detalhes, para análises mais profundas. "
   ]
  },
  {
   "cell_type": "markdown",
   "metadata": {},
   "source": [
    "Para isso, começamos importand algumas das bibliotecas necessárias para o primeiro momento. "
   ]
  },
  {
   "cell_type": "code",
   "execution_count": 32,
   "metadata": {},
   "outputs": [],
   "source": [
    "import geopandas as gpd\n",
    "import pandas as pd\n",
    "import matplotlib.pyplot as mpl"
   ]
  },
  {
   "cell_type": "markdown",
   "metadata": {},
   "source": [
    "## Preparando os dados ##\n",
    "Primeiramente lemos o arquivo shapefile, que possui as coordenadas de cada um dos estados brasileiros. Esse arquivo permitirá plotar os mapas. "
   ]
  },
  {
   "cell_type": "code",
   "execution_count": 2,
   "metadata": {},
   "outputs": [
    {
     "data": {
      "text/html": [
       "<div>\n",
       "<style scoped>\n",
       "    .dataframe tbody tr th:only-of-type {\n",
       "        vertical-align: middle;\n",
       "    }\n",
       "\n",
       "    .dataframe tbody tr th {\n",
       "        vertical-align: top;\n",
       "    }\n",
       "\n",
       "    .dataframe thead th {\n",
       "        text-align: right;\n",
       "    }\n",
       "</style>\n",
       "<table border=\"1\" class=\"dataframe\">\n",
       "  <thead>\n",
       "    <tr style=\"text-align: right;\">\n",
       "      <th></th>\n",
       "      <th>ESTADOS</th>\n",
       "      <th>REGIAO</th>\n",
       "      <th>COD_UF</th>\n",
       "      <th>UF</th>\n",
       "      <th>geometry</th>\n",
       "    </tr>\n",
       "  </thead>\n",
       "  <tbody>\n",
       "    <tr>\n",
       "      <th>0</th>\n",
       "      <td>Acre</td>\n",
       "      <td>Norte</td>\n",
       "      <td>12.0</td>\n",
       "      <td>AC</td>\n",
       "      <td>POLYGON ((-73.8009788422554 -7.111452561913211...</td>\n",
       "    </tr>\n",
       "    <tr>\n",
       "      <th>1</th>\n",
       "      <td>Alagoas</td>\n",
       "      <td>Nordeste</td>\n",
       "      <td>27.0</td>\n",
       "      <td>AL</td>\n",
       "      <td>(POLYGON ((-36.39119330741482 -10.500822065069...</td>\n",
       "    </tr>\n",
       "    <tr>\n",
       "      <th>2</th>\n",
       "      <td>Amapá</td>\n",
       "      <td>Norte</td>\n",
       "      <td>16.0</td>\n",
       "      <td>AP</td>\n",
       "      <td>(POLYGON ((-51.37380232136843 -0.3705300556351...</td>\n",
       "    </tr>\n",
       "    <tr>\n",
       "      <th>3</th>\n",
       "      <td>Amazonas</td>\n",
       "      <td>Norte</td>\n",
       "      <td>13.0</td>\n",
       "      <td>AM</td>\n",
       "      <td>POLYGON ((-73.8009788422554 -7.111452561913211...</td>\n",
       "    </tr>\n",
       "    <tr>\n",
       "      <th>4</th>\n",
       "      <td>Bahia</td>\n",
       "      <td>Nordeste</td>\n",
       "      <td>29.0</td>\n",
       "      <td>BA</td>\n",
       "      <td>(POLYGON ((-46.32975031667081 -13.252483567632...</td>\n",
       "    </tr>\n",
       "  </tbody>\n",
       "</table>\n",
       "</div>"
      ],
      "text/plain": [
       "    ESTADOS    REGIAO  COD_UF  UF  \\\n",
       "0      Acre     Norte    12.0  AC   \n",
       "1   Alagoas  Nordeste    27.0  AL   \n",
       "2     Amapá     Norte    16.0  AP   \n",
       "3  Amazonas     Norte    13.0  AM   \n",
       "4     Bahia  Nordeste    29.0  BA   \n",
       "\n",
       "                                            geometry  \n",
       "0  POLYGON ((-73.8009788422554 -7.111452561913211...  \n",
       "1  (POLYGON ((-36.39119330741482 -10.500822065069...  \n",
       "2  (POLYGON ((-51.37380232136843 -0.3705300556351...  \n",
       "3  POLYGON ((-73.8009788422554 -7.111452561913211...  \n",
       "4  (POLYGON ((-46.32975031667081 -13.252483567632...  "
      ]
     },
     "execution_count": 2,
     "metadata": {},
     "output_type": "execute_result"
    }
   ],
   "source": [
    "geodf = gpd.read_file(\"shapes/Brasil.shp\")\n",
    "geodf.head()"
   ]
  },
  {
   "cell_type": "markdown",
   "metadata": {},
   "source": [
    "A partir dos dados acima, obtemos um mapa como o abaixo. Um mapa simples da divisão política das unidades federativas do Brasil."
   ]
  },
  {
   "cell_type": "code",
   "execution_count": 3,
   "metadata": {},
   "outputs": [
    {
     "data": {
      "text/plain": [
       "<matplotlib.axes._subplots.AxesSubplot at 0x194fbffbe48>"
      ]
     },
     "execution_count": 3,
     "metadata": {},
     "output_type": "execute_result"
    },
    {
     "data": {
      "image/png": "[encoded data removed]",
      "text/plain": [
       "<Figure size 432x288 with 1 Axes>"
      ]
     },
     "metadata": {
      "needs_background": "light"
     },
     "output_type": "display_data"
    }
   ],
   "source": [
    "geodf.plot()"
   ]
  },
  {
   "cell_type": "markdown",
   "metadata": {},
   "source": [
    "Vamos rapidamente tratar o arquivo csv que geramos, removendo colunas desnecessárias e renomeando o que for necessário. "
   ]
  },
  {
   "cell_type": "code",
   "execution_count": 4,
   "metadata": {},
   "outputs": [
    {
     "data": {
      "text/html": [
       "<div>\n",
       "<style scoped>\n",
       "    .dataframe tbody tr th:only-of-type {\n",
       "        vertical-align: middle;\n",
       "    }\n",
       "\n",
       "    .dataframe tbody tr th {\n",
       "        vertical-align: top;\n",
       "    }\n",
       "\n",
       "    .dataframe thead th {\n",
       "        text-align: right;\n",
       "    }\n",
       "</style>\n",
       "<table border=\"1\" class=\"dataframe\">\n",
       "  <thead>\n",
       "    <tr style=\"text-align: right;\">\n",
       "      <th></th>\n",
       "      <th>ano</th>\n",
       "      <th>região</th>\n",
       "      <th>COD_UF</th>\n",
       "      <th>uf</th>\n",
       "      <th>município</th>\n",
       "      <th>sexo</th>\n",
       "      <th>peso muito baixo</th>\n",
       "      <th>peso baixo</th>\n",
       "      <th>peso adequado</th>\n",
       "      <th>peso elevado</th>\n",
       "      <th>total</th>\n",
       "    </tr>\n",
       "  </thead>\n",
       "  <tbody>\n",
       "    <tr>\n",
       "      <th>0</th>\n",
       "      <td>2009</td>\n",
       "      <td>CENTRO-OESTE</td>\n",
       "      <td>53</td>\n",
       "      <td>DF</td>\n",
       "      <td>BRASILIA</td>\n",
       "      <td>M</td>\n",
       "      <td>0</td>\n",
       "      <td>1</td>\n",
       "      <td>9</td>\n",
       "      <td>0.0</td>\n",
       "      <td>10.0</td>\n",
       "    </tr>\n",
       "    <tr>\n",
       "      <th>1</th>\n",
       "      <td>2009</td>\n",
       "      <td>CENTRO-OESTE</td>\n",
       "      <td>52</td>\n",
       "      <td>GO</td>\n",
       "      <td>ABADIA DE GOIAS</td>\n",
       "      <td>M</td>\n",
       "      <td>0</td>\n",
       "      <td>0</td>\n",
       "      <td>3</td>\n",
       "      <td>0.0</td>\n",
       "      <td>3.0</td>\n",
       "    </tr>\n",
       "    <tr>\n",
       "      <th>2</th>\n",
       "      <td>2009</td>\n",
       "      <td>CENTRO-OESTE</td>\n",
       "      <td>52</td>\n",
       "      <td>GO</td>\n",
       "      <td>ABADIANIA</td>\n",
       "      <td>M</td>\n",
       "      <td>0</td>\n",
       "      <td>1</td>\n",
       "      <td>12</td>\n",
       "      <td>1.0</td>\n",
       "      <td>14.0</td>\n",
       "    </tr>\n",
       "    <tr>\n",
       "      <th>3</th>\n",
       "      <td>2009</td>\n",
       "      <td>CENTRO-OESTE</td>\n",
       "      <td>52</td>\n",
       "      <td>GO</td>\n",
       "      <td>ACREUNA</td>\n",
       "      <td>M</td>\n",
       "      <td>0</td>\n",
       "      <td>0</td>\n",
       "      <td>24</td>\n",
       "      <td>3.0</td>\n",
       "      <td>27.0</td>\n",
       "    </tr>\n",
       "    <tr>\n",
       "      <th>4</th>\n",
       "      <td>2009</td>\n",
       "      <td>CENTRO-OESTE</td>\n",
       "      <td>52</td>\n",
       "      <td>GO</td>\n",
       "      <td>ADELANDIA</td>\n",
       "      <td>M</td>\n",
       "      <td>0</td>\n",
       "      <td>0</td>\n",
       "      <td>0</td>\n",
       "      <td>0.0</td>\n",
       "      <td>0.0</td>\n",
       "    </tr>\n",
       "  </tbody>\n",
       "</table>\n",
       "</div>"
      ],
      "text/plain": [
       "    ano        região  COD_UF  uf        município sexo  peso muito baixo  \\\n",
       "0  2009  CENTRO-OESTE      53  DF         BRASILIA    M                 0   \n",
       "1  2009  CENTRO-OESTE      52  GO  ABADIA DE GOIAS    M                 0   \n",
       "2  2009  CENTRO-OESTE      52  GO        ABADIANIA    M                 0   \n",
       "3  2009  CENTRO-OESTE      52  GO          ACREUNA    M                 0   \n",
       "4  2009  CENTRO-OESTE      52  GO        ADELANDIA    M                 0   \n",
       "\n",
       "   peso baixo  peso adequado  peso elevado  total  \n",
       "0           1              9           0.0   10.0  \n",
       "1           0              3           0.0    3.0  \n",
       "2           1             12           1.0   14.0  \n",
       "3           0             24           3.0   27.0  \n",
       "4           0              0           0.0    0.0  "
      ]
     },
     "execution_count": 4,
     "metadata": {},
     "output_type": "execute_result"
    }
   ],
   "source": [
    "def read_and_organize():\n",
    "    df = pd.read_csv('DfUnic.csv')\n",
    "    df = df.drop(columns={df.columns[0]})\n",
    "    df = df.drop(columns=\"cod ibge\")\n",
    "    # Colocando o nome como COD_UF para ficar ao de geodf no merge. \n",
    "    df = df.rename(index=str, columns={\"cod uf\": \"COD_UF\"}) \n",
    "    return df\n",
    "\n",
    "df = read_and_organize()\n",
    "df.head()"
   ]
  },
  {
   "cell_type": "markdown",
   "metadata": {},
   "source": [
    "Agruparemos, então, as informações por Estado. "
   ]
  },
  {
   "cell_type": "code",
   "execution_count": 5,
   "metadata": {},
   "outputs": [
    {
     "data": {
      "text/html": [
       "<div>\n",
       "<style scoped>\n",
       "    .dataframe tbody tr th:only-of-type {\n",
       "        vertical-align: middle;\n",
       "    }\n",
       "\n",
       "    .dataframe tbody tr th {\n",
       "        vertical-align: top;\n",
       "    }\n",
       "\n",
       "    .dataframe thead th {\n",
       "        text-align: right;\n",
       "    }\n",
       "</style>\n",
       "<table border=\"1\" class=\"dataframe\">\n",
       "  <thead>\n",
       "    <tr style=\"text-align: right;\">\n",
       "      <th></th>\n",
       "      <th>COD_UF</th>\n",
       "      <th>ano</th>\n",
       "      <th>peso muito baixo</th>\n",
       "      <th>peso baixo</th>\n",
       "      <th>peso adequado</th>\n",
       "      <th>peso elevado</th>\n",
       "      <th>total</th>\n",
       "    </tr>\n",
       "  </thead>\n",
       "  <tbody>\n",
       "    <tr>\n",
       "      <th>0</th>\n",
       "      <td>11</td>\n",
       "      <td>2008</td>\n",
       "      <td>17</td>\n",
       "      <td>43</td>\n",
       "      <td>2259</td>\n",
       "      <td>243.0</td>\n",
       "      <td>2562.0</td>\n",
       "    </tr>\n",
       "    <tr>\n",
       "      <th>1</th>\n",
       "      <td>11</td>\n",
       "      <td>2009</td>\n",
       "      <td>20</td>\n",
       "      <td>66</td>\n",
       "      <td>2694</td>\n",
       "      <td>367.0</td>\n",
       "      <td>3147.0</td>\n",
       "    </tr>\n",
       "    <tr>\n",
       "      <th>2</th>\n",
       "      <td>11</td>\n",
       "      <td>2010</td>\n",
       "      <td>45</td>\n",
       "      <td>93</td>\n",
       "      <td>3592</td>\n",
       "      <td>403.0</td>\n",
       "      <td>4133.0</td>\n",
       "    </tr>\n",
       "    <tr>\n",
       "      <th>3</th>\n",
       "      <td>11</td>\n",
       "      <td>2011</td>\n",
       "      <td>22</td>\n",
       "      <td>62</td>\n",
       "      <td>2012</td>\n",
       "      <td>215.0</td>\n",
       "      <td>2311.0</td>\n",
       "    </tr>\n",
       "    <tr>\n",
       "      <th>4</th>\n",
       "      <td>11</td>\n",
       "      <td>2012</td>\n",
       "      <td>37</td>\n",
       "      <td>94</td>\n",
       "      <td>3581</td>\n",
       "      <td>400.0</td>\n",
       "      <td>4112.0</td>\n",
       "    </tr>\n",
       "  </tbody>\n",
       "</table>\n",
       "</div>"
      ],
      "text/plain": [
       "   COD_UF   ano  peso muito baixo  peso baixo  peso adequado  peso elevado  \\\n",
       "0      11  2008                17          43           2259         243.0   \n",
       "1      11  2009                20          66           2694         367.0   \n",
       "2      11  2010                45          93           3592         403.0   \n",
       "3      11  2011                22          62           2012         215.0   \n",
       "4      11  2012                37          94           3581         400.0   \n",
       "\n",
       "    total  \n",
       "0  2562.0  \n",
       "1  3147.0  \n",
       "2  4133.0  \n",
       "3  2311.0  \n",
       "4  4112.0  "
      ]
     },
     "execution_count": 5,
     "metadata": {},
     "output_type": "execute_result"
    }
   ],
   "source": [
    "# Juntando as informações de todas as cidades por estado, de ambos os sexos. \n",
    "states_df = df.groupby(['COD_UF', 'ano'], as_index=False).sum()\n",
    "states_df.head()"
   ]
  },
  {
   "cell_type": "markdown",
   "metadata": {},
   "source": [
    "### Mesclando os dados ###\n",
    "\n",
    "Temos, portanto, uma tabela com informações geográficas e uma tabela com informações nutricionais a respeito dos estados. Mas precisamos cruzar esses dados, mesclando as tabelas. Usamos o COD_UF, comum a ambas as tabelas, para o ponto de referência entre as tabelas."
   ]
  },
  {
   "cell_type": "code",
   "execution_count": 6,
   "metadata": {},
   "outputs": [
    {
     "data": {
      "text/html": [
       "<div>\n",
       "<style scoped>\n",
       "    .dataframe tbody tr th:only-of-type {\n",
       "        vertical-align: middle;\n",
       "    }\n",
       "\n",
       "    .dataframe tbody tr th {\n",
       "        vertical-align: top;\n",
       "    }\n",
       "\n",
       "    .dataframe thead th {\n",
       "        text-align: right;\n",
       "    }\n",
       "</style>\n",
       "<table border=\"1\" class=\"dataframe\">\n",
       "  <thead>\n",
       "    <tr style=\"text-align: right;\">\n",
       "      <th></th>\n",
       "      <th>ESTADOS</th>\n",
       "      <th>REGIAO</th>\n",
       "      <th>COD_UF</th>\n",
       "      <th>UF</th>\n",
       "      <th>geometry</th>\n",
       "      <th>ano</th>\n",
       "      <th>peso muito baixo</th>\n",
       "      <th>peso baixo</th>\n",
       "      <th>peso adequado</th>\n",
       "      <th>peso elevado</th>\n",
       "      <th>total</th>\n",
       "    </tr>\n",
       "  </thead>\n",
       "  <tbody>\n",
       "    <tr>\n",
       "      <th>0</th>\n",
       "      <td>Acre</td>\n",
       "      <td>Norte</td>\n",
       "      <td>12.0</td>\n",
       "      <td>AC</td>\n",
       "      <td>POLYGON ((-73.8009788422554 -7.111452561913211...</td>\n",
       "      <td>2008</td>\n",
       "      <td>9</td>\n",
       "      <td>26</td>\n",
       "      <td>824</td>\n",
       "      <td>87.0</td>\n",
       "      <td>946.0</td>\n",
       "    </tr>\n",
       "    <tr>\n",
       "      <th>1</th>\n",
       "      <td>Acre</td>\n",
       "      <td>Norte</td>\n",
       "      <td>12.0</td>\n",
       "      <td>AC</td>\n",
       "      <td>POLYGON ((-73.8009788422554 -7.111452561913211...</td>\n",
       "      <td>2009</td>\n",
       "      <td>17</td>\n",
       "      <td>34</td>\n",
       "      <td>1047</td>\n",
       "      <td>125.0</td>\n",
       "      <td>1223.0</td>\n",
       "    </tr>\n",
       "    <tr>\n",
       "      <th>2</th>\n",
       "      <td>Acre</td>\n",
       "      <td>Norte</td>\n",
       "      <td>12.0</td>\n",
       "      <td>AC</td>\n",
       "      <td>POLYGON ((-73.8009788422554 -7.111452561913211...</td>\n",
       "      <td>2010</td>\n",
       "      <td>24</td>\n",
       "      <td>66</td>\n",
       "      <td>1846</td>\n",
       "      <td>200.0</td>\n",
       "      <td>2136.0</td>\n",
       "    </tr>\n",
       "    <tr>\n",
       "      <th>3</th>\n",
       "      <td>Acre</td>\n",
       "      <td>Norte</td>\n",
       "      <td>12.0</td>\n",
       "      <td>AC</td>\n",
       "      <td>POLYGON ((-73.8009788422554 -7.111452561913211...</td>\n",
       "      <td>2011</td>\n",
       "      <td>19</td>\n",
       "      <td>38</td>\n",
       "      <td>1299</td>\n",
       "      <td>158.0</td>\n",
       "      <td>1514.0</td>\n",
       "    </tr>\n",
       "    <tr>\n",
       "      <th>4</th>\n",
       "      <td>Acre</td>\n",
       "      <td>Norte</td>\n",
       "      <td>12.0</td>\n",
       "      <td>AC</td>\n",
       "      <td>POLYGON ((-73.8009788422554 -7.111452561913211...</td>\n",
       "      <td>2012</td>\n",
       "      <td>21</td>\n",
       "      <td>46</td>\n",
       "      <td>1630</td>\n",
       "      <td>190.0</td>\n",
       "      <td>1887.0</td>\n",
       "    </tr>\n",
       "  </tbody>\n",
       "</table>\n",
       "</div>"
      ],
      "text/plain": [
       "  ESTADOS REGIAO  COD_UF  UF  \\\n",
       "0    Acre  Norte    12.0  AC   \n",
       "1    Acre  Norte    12.0  AC   \n",
       "2    Acre  Norte    12.0  AC   \n",
       "3    Acre  Norte    12.0  AC   \n",
       "4    Acre  Norte    12.0  AC   \n",
       "\n",
       "                                            geometry   ano  peso muito baixo  \\\n",
       "0  POLYGON ((-73.8009788422554 -7.111452561913211...  2008                 9   \n",
       "1  POLYGON ((-73.8009788422554 -7.111452561913211...  2009                17   \n",
       "2  POLYGON ((-73.8009788422554 -7.111452561913211...  2010                24   \n",
       "3  POLYGON ((-73.8009788422554 -7.111452561913211...  2011                19   \n",
       "4  POLYGON ((-73.8009788422554 -7.111452561913211...  2012                21   \n",
       "\n",
       "   peso baixo  peso adequado  peso elevado   total  \n",
       "0          26            824          87.0   946.0  \n",
       "1          34           1047         125.0  1223.0  \n",
       "2          66           1846         200.0  2136.0  \n",
       "3          38           1299         158.0  1514.0  \n",
       "4          46           1630         190.0  1887.0  "
      ]
     },
     "execution_count": 6,
     "metadata": {},
     "output_type": "execute_result"
    }
   ],
   "source": [
    "# Fazendo o merge das informações do shapefile com o dataframe obtido pelo sisvan. \n",
    "# Assim, temos um dataframe contendo informações gerais do estado (todas as cidades)\n",
    "# e de ambos os sexos, além da forma do estado, pois possui a coluna 'geometry' do shapefile\n",
    "merged = geodf.merge(states_df, on='COD_UF')\n",
    "merged.head()"
   ]
  },
  {
   "cell_type": "markdown",
   "metadata": {},
   "source": [
    "Temos, então, informações geográficas e informações nutricionais em uma única tabela, como desejado. O próximo passo é obter os percentuais, caso seja desejado saber os dados em relação ao total. Percentuais muitas vezes oferecem uma análise mais fiel à realidade."
   ]
  },
  {
   "cell_type": "code",
   "execution_count": 8,
   "metadata": {},
   "outputs": [
    {
     "data": {
      "text/html": [
       "<div>\n",
       "<style scoped>\n",
       "    .dataframe tbody tr th:only-of-type {\n",
       "        vertical-align: middle;\n",
       "    }\n",
       "\n",
       "    .dataframe tbody tr th {\n",
       "        vertical-align: top;\n",
       "    }\n",
       "\n",
       "    .dataframe thead th {\n",
       "        text-align: right;\n",
       "    }\n",
       "</style>\n",
       "<table border=\"1\" class=\"dataframe\">\n",
       "  <thead>\n",
       "    <tr style=\"text-align: right;\">\n",
       "      <th></th>\n",
       "      <th>ESTADOS</th>\n",
       "      <th>REGIAO</th>\n",
       "      <th>COD_UF</th>\n",
       "      <th>UF</th>\n",
       "      <th>geometry</th>\n",
       "      <th>ano</th>\n",
       "      <th>peso muito baixo</th>\n",
       "      <th>peso baixo</th>\n",
       "      <th>peso adequado</th>\n",
       "      <th>peso elevado</th>\n",
       "      <th>total</th>\n",
       "      <th>percent_muitobaixo</th>\n",
       "      <th>percent_baixo</th>\n",
       "      <th>percent_adequado</th>\n",
       "      <th>percent_elevado</th>\n",
       "    </tr>\n",
       "  </thead>\n",
       "  <tbody>\n",
       "    <tr>\n",
       "      <th>0</th>\n",
       "      <td>Acre</td>\n",
       "      <td>Norte</td>\n",
       "      <td>12.0</td>\n",
       "      <td>AC</td>\n",
       "      <td>POLYGON ((-73.8009788422554 -7.111452561913211...</td>\n",
       "      <td>2008</td>\n",
       "      <td>9</td>\n",
       "      <td>26</td>\n",
       "      <td>824</td>\n",
       "      <td>87.0</td>\n",
       "      <td>946.0</td>\n",
       "      <td>0.951374</td>\n",
       "      <td>2.748414</td>\n",
       "      <td>87.103594</td>\n",
       "      <td>9.196617</td>\n",
       "    </tr>\n",
       "    <tr>\n",
       "      <th>1</th>\n",
       "      <td>Acre</td>\n",
       "      <td>Norte</td>\n",
       "      <td>12.0</td>\n",
       "      <td>AC</td>\n",
       "      <td>POLYGON ((-73.8009788422554 -7.111452561913211...</td>\n",
       "      <td>2009</td>\n",
       "      <td>17</td>\n",
       "      <td>34</td>\n",
       "      <td>1047</td>\n",
       "      <td>125.0</td>\n",
       "      <td>1223.0</td>\n",
       "      <td>1.390025</td>\n",
       "      <td>2.780049</td>\n",
       "      <td>85.609158</td>\n",
       "      <td>10.220769</td>\n",
       "    </tr>\n",
       "    <tr>\n",
       "      <th>2</th>\n",
       "      <td>Acre</td>\n",
       "      <td>Norte</td>\n",
       "      <td>12.0</td>\n",
       "      <td>AC</td>\n",
       "      <td>POLYGON ((-73.8009788422554 -7.111452561913211...</td>\n",
       "      <td>2010</td>\n",
       "      <td>24</td>\n",
       "      <td>66</td>\n",
       "      <td>1846</td>\n",
       "      <td>200.0</td>\n",
       "      <td>2136.0</td>\n",
       "      <td>1.123596</td>\n",
       "      <td>3.089888</td>\n",
       "      <td>86.423221</td>\n",
       "      <td>9.363296</td>\n",
       "    </tr>\n",
       "    <tr>\n",
       "      <th>3</th>\n",
       "      <td>Acre</td>\n",
       "      <td>Norte</td>\n",
       "      <td>12.0</td>\n",
       "      <td>AC</td>\n",
       "      <td>POLYGON ((-73.8009788422554 -7.111452561913211...</td>\n",
       "      <td>2011</td>\n",
       "      <td>19</td>\n",
       "      <td>38</td>\n",
       "      <td>1299</td>\n",
       "      <td>158.0</td>\n",
       "      <td>1514.0</td>\n",
       "      <td>1.254954</td>\n",
       "      <td>2.509908</td>\n",
       "      <td>85.799207</td>\n",
       "      <td>10.435931</td>\n",
       "    </tr>\n",
       "    <tr>\n",
       "      <th>4</th>\n",
       "      <td>Acre</td>\n",
       "      <td>Norte</td>\n",
       "      <td>12.0</td>\n",
       "      <td>AC</td>\n",
       "      <td>POLYGON ((-73.8009788422554 -7.111452561913211...</td>\n",
       "      <td>2012</td>\n",
       "      <td>21</td>\n",
       "      <td>46</td>\n",
       "      <td>1630</td>\n",
       "      <td>190.0</td>\n",
       "      <td>1887.0</td>\n",
       "      <td>1.112878</td>\n",
       "      <td>2.437732</td>\n",
       "      <td>86.380498</td>\n",
       "      <td>10.068892</td>\n",
       "    </tr>\n",
       "  </tbody>\n",
       "</table>\n",
       "</div>"
      ],
      "text/plain": [
       "  ESTADOS REGIAO  COD_UF  UF  \\\n",
       "0    Acre  Norte    12.0  AC   \n",
       "1    Acre  Norte    12.0  AC   \n",
       "2    Acre  Norte    12.0  AC   \n",
       "3    Acre  Norte    12.0  AC   \n",
       "4    Acre  Norte    12.0  AC   \n",
       "\n",
       "                                            geometry   ano  peso muito baixo  \\\n",
       "0  POLYGON ((-73.8009788422554 -7.111452561913211...  2008                 9   \n",
       "1  POLYGON ((-73.8009788422554 -7.111452561913211...  2009                17   \n",
       "2  POLYGON ((-73.8009788422554 -7.111452561913211...  2010                24   \n",
       "3  POLYGON ((-73.8009788422554 -7.111452561913211...  2011                19   \n",
       "4  POLYGON ((-73.8009788422554 -7.111452561913211...  2012                21   \n",
       "\n",
       "   peso baixo  peso adequado  peso elevado   total  percent_muitobaixo  \\\n",
       "0          26            824          87.0   946.0            0.951374   \n",
       "1          34           1047         125.0  1223.0            1.390025   \n",
       "2          66           1846         200.0  2136.0            1.123596   \n",
       "3          38           1299         158.0  1514.0            1.254954   \n",
       "4          46           1630         190.0  1887.0            1.112878   \n",
       "\n",
       "   percent_baixo  percent_adequado  percent_elevado  \n",
       "0       2.748414         87.103594         9.196617  \n",
       "1       2.780049         85.609158        10.220769  \n",
       "2       3.089888         86.423221         9.363296  \n",
       "3       2.509908         85.799207        10.435931  \n",
       "4       2.437732         86.380498        10.068892  "
      ]
     },
     "execution_count": 8,
     "metadata": {},
     "output_type": "execute_result"
    }
   ],
   "source": [
    "def get_percentages(merged):\n",
    "    merged['percent_muitobaixo'] = 100 * (merged['peso muito baixo'] / merged['total'])\n",
    "    merged['percent_baixo'] = 100 * (merged['peso baixo'] / merged['total'])\n",
    "    merged['percent_adequado'] = 100 * (merged['peso adequado'] / merged['total'])\n",
    "    merged['percent_elevado'] = 100 * (merged['peso elevado'] / merged['total'])\n",
    "    return merged\n",
    "\n",
    "# Obtendo o percentual para o gráfico ficar mais fiel na representação da realidade\n",
    "merged = get_percentages(merged)\n",
    "merged.head()"
   ]
  },
  {
   "cell_type": "markdown",
   "metadata": {},
   "source": [
    "### Escolhendo o ano desejado ###\n",
    "\n",
    "Troque o valor na célula abaixo para escolher o ano em que deseja ver os dados dos mapas. Em seguida, execute as células abaixo."
   ]
  },
  {
   "cell_type": "code",
   "execution_count": 11,
   "metadata": {},
   "outputs": [],
   "source": [
    "# ALTERE AQUI o ano em que você deseja ver os dados. Em seguida, execute novamente as células abaixo. \n",
    "'''\n",
    "Possível escolher anos de 2008 a 2018. Tente você mesmo!\n",
    "'''\n",
    "year = 2018"
   ]
  },
  {
   "cell_type": "markdown",
   "metadata": {},
   "source": [
    "A partir do ano escolhido, será criado um subset apenas com o ano escolhido. Então as colunas serão renomeadas para nomes sem espaços, para que possam ser tratadas como variáveis."
   ]
  },
  {
   "cell_type": "code",
   "execution_count": 25,
   "metadata": {},
   "outputs": [
    {
     "data": {
      "text/html": [
       "<div>\n",
       "<style scoped>\n",
       "    .dataframe tbody tr th:only-of-type {\n",
       "        vertical-align: middle;\n",
       "    }\n",
       "\n",
       "    .dataframe tbody tr th {\n",
       "        vertical-align: top;\n",
       "    }\n",
       "\n",
       "    .dataframe thead th {\n",
       "        text-align: right;\n",
       "    }\n",
       "</style>\n",
       "<table border=\"1\" class=\"dataframe\">\n",
       "  <thead>\n",
       "    <tr style=\"text-align: right;\">\n",
       "      <th></th>\n",
       "      <th>ESTADOS</th>\n",
       "      <th>REGIAO</th>\n",
       "      <th>COD_UF</th>\n",
       "      <th>UF</th>\n",
       "      <th>geometry</th>\n",
       "      <th>ano</th>\n",
       "      <th>muitobaixo</th>\n",
       "      <th>baixo</th>\n",
       "      <th>adequado</th>\n",
       "      <th>elevado</th>\n",
       "      <th>total</th>\n",
       "      <th>percent_muitobaixo</th>\n",
       "      <th>percent_baixo</th>\n",
       "      <th>percent_adequado</th>\n",
       "      <th>percent_elevado</th>\n",
       "    </tr>\n",
       "  </thead>\n",
       "  <tbody>\n",
       "    <tr>\n",
       "      <th>10</th>\n",
       "      <td>Acre</td>\n",
       "      <td>Norte</td>\n",
       "      <td>12.0</td>\n",
       "      <td>AC</td>\n",
       "      <td>POLYGON ((-73.8009788422554 -7.111452561913211...</td>\n",
       "      <td>2018</td>\n",
       "      <td>110</td>\n",
       "      <td>263</td>\n",
       "      <td>7829</td>\n",
       "      <td>635.0</td>\n",
       "      <td>8837.0</td>\n",
       "      <td>1.244766</td>\n",
       "      <td>2.976123</td>\n",
       "      <td>88.593414</td>\n",
       "      <td>7.185697</td>\n",
       "    </tr>\n",
       "    <tr>\n",
       "      <th>21</th>\n",
       "      <td>Alagoas</td>\n",
       "      <td>Nordeste</td>\n",
       "      <td>27.0</td>\n",
       "      <td>AL</td>\n",
       "      <td>(POLYGON ((-36.39119330741482 -10.500822065069...</td>\n",
       "      <td>2018</td>\n",
       "      <td>418</td>\n",
       "      <td>691</td>\n",
       "      <td>23479</td>\n",
       "      <td>2930.0</td>\n",
       "      <td>27518.0</td>\n",
       "      <td>1.519006</td>\n",
       "      <td>2.511084</td>\n",
       "      <td>85.322334</td>\n",
       "      <td>10.647576</td>\n",
       "    </tr>\n",
       "    <tr>\n",
       "      <th>32</th>\n",
       "      <td>Amapá</td>\n",
       "      <td>Norte</td>\n",
       "      <td>16.0</td>\n",
       "      <td>AP</td>\n",
       "      <td>(POLYGON ((-51.37380232136843 -0.3705300556351...</td>\n",
       "      <td>2018</td>\n",
       "      <td>69</td>\n",
       "      <td>164</td>\n",
       "      <td>4721</td>\n",
       "      <td>355.0</td>\n",
       "      <td>5309.0</td>\n",
       "      <td>1.299680</td>\n",
       "      <td>3.089094</td>\n",
       "      <td>88.924468</td>\n",
       "      <td>6.686758</td>\n",
       "    </tr>\n",
       "    <tr>\n",
       "      <th>43</th>\n",
       "      <td>Amazonas</td>\n",
       "      <td>Norte</td>\n",
       "      <td>13.0</td>\n",
       "      <td>AM</td>\n",
       "      <td>POLYGON ((-73.8009788422554 -7.111452561913211...</td>\n",
       "      <td>2018</td>\n",
       "      <td>688</td>\n",
       "      <td>1392</td>\n",
       "      <td>31439</td>\n",
       "      <td>2592.0</td>\n",
       "      <td>36111.0</td>\n",
       "      <td>1.905237</td>\n",
       "      <td>3.854781</td>\n",
       "      <td>87.062114</td>\n",
       "      <td>7.177868</td>\n",
       "    </tr>\n",
       "    <tr>\n",
       "      <th>54</th>\n",
       "      <td>Bahia</td>\n",
       "      <td>Nordeste</td>\n",
       "      <td>29.0</td>\n",
       "      <td>BA</td>\n",
       "      <td>(POLYGON ((-46.32975031667081 -13.252483567632...</td>\n",
       "      <td>2018</td>\n",
       "      <td>1403</td>\n",
       "      <td>2977</td>\n",
       "      <td>103825</td>\n",
       "      <td>10640.0</td>\n",
       "      <td>118845.0</td>\n",
       "      <td>1.180529</td>\n",
       "      <td>2.504943</td>\n",
       "      <td>87.361690</td>\n",
       "      <td>8.952838</td>\n",
       "    </tr>\n",
       "  </tbody>\n",
       "</table>\n",
       "</div>"
      ],
      "text/plain": [
       "     ESTADOS    REGIAO  COD_UF  UF  \\\n",
       "10      Acre     Norte    12.0  AC   \n",
       "21   Alagoas  Nordeste    27.0  AL   \n",
       "32     Amapá     Norte    16.0  AP   \n",
       "43  Amazonas     Norte    13.0  AM   \n",
       "54     Bahia  Nordeste    29.0  BA   \n",
       "\n",
       "                                             geometry   ano  muitobaixo  \\\n",
       "10  POLYGON ((-73.8009788422554 -7.111452561913211...  2018         110   \n",
       "21  (POLYGON ((-36.39119330741482 -10.500822065069...  2018         418   \n",
       "32  (POLYGON ((-51.37380232136843 -0.3705300556351...  2018          69   \n",
       "43  POLYGON ((-73.8009788422554 -7.111452561913211...  2018         688   \n",
       "54  (POLYGON ((-46.32975031667081 -13.252483567632...  2018        1403   \n",
       "\n",
       "    baixo  adequado  elevado     total  percent_muitobaixo  percent_baixo  \\\n",
       "10    263      7829    635.0    8837.0            1.244766       2.976123   \n",
       "21    691     23479   2930.0   27518.0            1.519006       2.511084   \n",
       "32    164      4721    355.0    5309.0            1.299680       3.089094   \n",
       "43   1392     31439   2592.0   36111.0            1.905237       3.854781   \n",
       "54   2977    103825  10640.0  118845.0            1.180529       2.504943   \n",
       "\n",
       "    percent_adequado  percent_elevado  \n",
       "10         88.593414         7.185697  \n",
       "21         85.322334        10.647576  \n",
       "32         88.924468         6.686758  \n",
       "43         87.062114         7.177868  \n",
       "54         87.361690         8.952838  "
      ]
     },
     "execution_count": 25,
     "metadata": {},
     "output_type": "execute_result"
    }
   ],
   "source": [
    "#Pegando informações apenas do ano desejado\n",
    "merged_year = merged.loc[merged['ano'] == year]\n",
    "merged_year.columns = ['ESTADOS', 'REGIAO', 'COD_UF', 'UF', 'geometry', 'ano', 'muitobaixo', \n",
    "                      'baixo', 'adequado', 'elevado', 'total', 'percent_muitobaixo', 'percent_baixo',\n",
    "                      'percent_adequado', 'percent_elevado']\n",
    "merged_year.head()"
   ]
  },
  {
   "cell_type": "markdown",
   "metadata": {},
   "source": [
    "### Mapa coroplético ###\n",
    "O [mapa coroplético](\"https://pt.wikipedia.org/wiki/Mapa_coroplético\") foi esoclhido para essas representações pois ele comunica de maneira intuitiva ao visualizador comum informações estatísticas em determinadas áreas (no caso, unidades federativas do Brasil), permitindo comparar com diferentes áreas.\n",
    "\n",
    "A partir do ano escolhido, verificamos os máximos e os mínimos de cada um dos percentuais, para que a régua de cores da legenda represente mais fielmente a realidade. O código cria funções que fazem o mapa esperando como parâmetros a paleta de cores do mapa e o percentual que o mapa representará."
   ]
  },
  {
   "cell_type": "code",
   "execution_count": 26,
   "metadata": {},
   "outputs": [],
   "source": [
    "def get_vmin_and_vmax(variable):\n",
    "    if(variable == 'percent_muitobaixo'):\n",
    "        return merged_year.percent_muitobaixo.min(), merged_year.percent_muitobaixo.max()\n",
    "    elif(variable == 'percent_baixo'):\n",
    "        return merged_year.percent_baixo.min(), merged_year.percent_baixo.max()\n",
    "    elif(variable == 'percent_adequado'):\n",
    "        return merged_year.percent_adequado.min(), merged_year.percent_adequado.max()\n",
    "    elif(variable == 'percent_elevado'):\n",
    "        return merged_year.percent_elevado.min(), merged_year.percent_elevado.max()\n",
    "    else:\n",
    "        return 0,100\n",
    "\n",
    "def choropleth_plots(variable, colors):\n",
    "    merged_year.plot(column=variable, cmap=colors, linewidth=0.2, ax=ax, edgecolor='0.3')\n",
    "\n",
    "    ax.axis('off')\n",
    "    #ax.set_title('Peso muito baixo por estado (percentual)', fontdict={'fontsize': '16'})\n",
    "    ax.annotate('Fonte: Relatórios do SISVAN (DATASUS)', xy=(0.1, .08), xycoords='figure fraction', \n",
    "            horizontalalignment='left', verticalalignment='top', fontsize=12, color='#555555')\n",
    "\n",
    "    # Barra de cores\n",
    "    vmin, vmax = get_vmin_and_vmax(variable)\n",
    "    sm = mpl.cm.ScalarMappable(cmap=colors, norm=mpl.Normalize(vmin=vmin, vmax=vmax))\n",
    "    # empty array for the data range\n",
    "    sm._A = []\n",
    "    # add the colorbar to the figure\n",
    "    cbar = fig.colorbar(sm)\n",
    "    ax"
   ]
  },
  {
   "cell_type": "markdown",
   "metadata": {},
   "source": [
    "Abaixo a função de criar o mapa coroplético é chamada uma vez para uma das colunas de percentual, cada uma com uma cor diferente para melhorar a visualização. "
   ]
  },
  {
   "cell_type": "code",
   "execution_count": 27,
   "metadata": {},
   "outputs": [
    {
     "data": {
      "image/png": "[encoded data removed]",
      "text/plain": [
       "<Figure size 720x432 with 2 Axes>"
      ]
     },
     "metadata": {
      "needs_background": "light"
     },
     "output_type": "display_data"
    }
   ],
   "source": [
    "fig, ax = mpl.subplots(1, figsize=(10, 6))\n",
    "ax.set_title('Peso muito baixo por estado (percentual) em '+str(year), fontdict={'fontsize': '16'})\n",
    "choropleth_plots(variable = 'percent_muitobaixo', colors=\"Reds\")"
   ]
  },
  {
   "cell_type": "code",
   "execution_count": 28,
   "metadata": {},
   "outputs": [
    {
     "data": {
      "image/png": "[encoded data removed]",
      "text/plain": [
       "<Figure size 720x432 with 2 Axes>"
      ]
     },
     "metadata": {
      "needs_background": "light"
     },
     "output_type": "display_data"
    }
   ],
   "source": [
    "fig, ax = mpl.subplots(1, figsize=(10, 6))\n",
    "ax.set_title('Peso baixo por estado (percentual) em '+str(year), fontdict={'fontsize': '16'})\n",
    "choropleth_plots(variable = 'percent_baixo', colors=\"Oranges\")\n"
   ]
  },
  {
   "cell_type": "code",
   "execution_count": 29,
   "metadata": {},
   "outputs": [
    {
     "data": {
      "image/png": "[encoded data removed]",
      "text/plain": [
       "<Figure size 720x432 with 2 Axes>"
      ]
     },
     "metadata": {
      "needs_background": "light"
     },
     "output_type": "display_data"
    }
   ],
   "source": [
    "fig, ax = mpl.subplots(1, figsize=(10, 6))\n",
    "ax.set_title('Peso adequado por estado (percentual) em '+str(year), fontdict={'fontsize': '16'})\n",
    "choropleth_plots(variable = 'percent_adequado', colors=\"Greens\")"
   ]
  },
  {
   "cell_type": "code",
   "execution_count": 30,
   "metadata": {},
   "outputs": [
    {
     "data": {
      "image/png": "[encoded data removed]",
      "text/plain": [
       "<Figure size 720x432 with 2 Axes>"
      ]
     },
     "metadata": {
      "needs_background": "light"
     },
     "output_type": "display_data"
    }
   ],
   "source": [
    "fig, ax = mpl.subplots(1, figsize=(10, 6))\n",
    "ax.set_title('Peso elevado por estado (percentual) em '+str(year), fontdict={'fontsize': '16'})\n",
    "choropleth_plots(variable = 'percent_elevado', colors=\"Blues\")"
   ]
  },
  {
   "cell_type": "markdown",
   "metadata": {},
   "source": [
    "### Gráficos interativos ###\n",
    "\n",
    "Para os gráficos interativos, usaremos a biblioteca [Plotly](\"https://plot.ly\").\n",
    "Começaremos importando todos os componentes necessários."
   ]
  },
  {
   "cell_type": "code",
   "execution_count": 41,
   "metadata": {},
   "outputs": [],
   "source": [
    "import plotly \n",
    "import plotly.offline as py\n",
    "import plotly.graph_objs as go"
   ]
  },
  {
   "cell_type": "markdown",
   "metadata": {},
   "source": [
    "Em seguida, criaremos o ambiente com o dataframe desejado para a exibição dos gráficos. Agruparemos as informações por estados a partir do arquivo .csv criado a partir [deste código](\"https://github.com/victoraccete/ICD_20182/blob/final_notebook/cleanandmerge.py\"), renomeado como DfUnic.csv e que está presente no repositório."
   ]
  },
  {
   "cell_type": "code",
   "execution_count": 42,
   "metadata": {},
   "outputs": [],
   "source": [
    "def setup_df():\n",
    "    #plotly.tools.set_credentials_file(username='pedro.vitorino20',\n",
    "                                  #api_key='plotsICD')        \n",
    "    df = pd.read_csv('DfUnic.csv')\n",
    "    df.head()    \n",
    "    states_df = df.groupby(['cod uf', 'uf', 'sexo', 'ano'], as_index = False).sum()\n",
    "    states_df = states_df.drop('cod ibge', axis = 1)\n",
    "    return states_df"
   ]
  },
  {
   "cell_type": "markdown",
   "metadata": {},
   "source": [
    "Com isso nós podemos criar a estrutura para plotar nossos gráficos, na forma de uma função que espera como parâmetros o código do Estado que será gerado o gráfico e o dataframe."
   ]
  },
  {
   "cell_type": "code",
   "execution_count": 36,
   "metadata": {},
   "outputs": [],
   "source": [
    "def create_plots(state_cod, states_df):\n",
    "    df_statesM = states_df[states_df['cod uf']==state_cod][states_df['sexo'] \n",
    "                            == 'M']\n",
    "    state_name = df_statesM['uf'].iloc[0]\n",
    "    \n",
    "    \n",
    "    df_statesM.ano = pd.to_datetime(states_df.ano, format='%Y')\n",
    "    \n",
    "    trace0 = go.Scatter(\n",
    "                    x=df_statesM.ano,\n",
    "                    y=df_statesM['peso muito baixo'],\n",
    "                    name = \"Peso Muito Baixo\",\n",
    "                    line = dict(color = '#990000'),\n",
    "                    opacity = 0.8)\n",
    "    \n",
    "    trace1 = go.Scatter(\n",
    "                    x=df_statesM.ano,\n",
    "                    y=df_statesM['peso baixo'],\n",
    "                    name = \"Peso Baixo\",\n",
    "                    line = dict(color = 'orange'),\n",
    "                    opacity = 0.8)\n",
    "                    \n",
    "    trace2 = go.Scatter(\n",
    "                    x=df_statesM.ano,\n",
    "                    y=df_statesM['peso adequado'],\n",
    "                    name = \"Peso Adequado\",\n",
    "                    line = dict(color = 'green'),\n",
    "                    opacity = 0.8)\n",
    "    \n",
    "    trace3 = go.Scatter(\n",
    "                    x=df_statesM.ano,\n",
    "                    y=df_statesM['peso elevado'],\n",
    "                    name = \"Peso Elevado\",\n",
    "                    line = dict(color = 'blue'),\n",
    "                    opacity = 0.8)\n",
    "        \n",
    "    df_states_F = states_df[states_df['cod uf']==state_cod][states_df['sexo'] \n",
    "                            == 'F']\n",
    "    \n",
    "    df_states_F.ano = pd.to_datetime(df_states_F.ano, format='%Y')\n",
    "    \n",
    "    trace4 = go.Scatter(\n",
    "                    x=df_states_F.ano,\n",
    "                    y=df_states_F['peso muito baixo'],\n",
    "                    name = \"Peso Muito Baixo\",\n",
    "                    line = dict(color = '#990000'),\n",
    "                    opacity = 0.8,\n",
    "                    xaxis='x2',\n",
    "                    yaxis='y2')\n",
    "    \n",
    "    trace5 = go.Scatter(\n",
    "                    x=df_states_F.ano,\n",
    "                    y=df_states_F['peso baixo'],\n",
    "                    name = \"Peso Baixo\",\n",
    "                    line = dict(color = 'orange'),\n",
    "                    opacity = 0.8,\n",
    "                    xaxis='x2',\n",
    "                    yaxis='y2')\n",
    "                    \n",
    "    trace6 = go.Scatter(\n",
    "                    x=df_states_F.ano,\n",
    "                    y=df_states_F['peso adequado'],\n",
    "                    name = \"Peso Adequado\",\n",
    "                    line = dict(color = 'green'),\n",
    "                    opacity = 0.8,\n",
    "                    xaxis='x2',\n",
    "                    yaxis='y2')\n",
    "    \n",
    "    trace7 = go.Scatter(\n",
    "                    x=df_states_F.ano,\n",
    "                    y=df_states_F['peso elevado'],\n",
    "                    name = \"Peso Elevado\",\n",
    "                    line = dict(color = 'blue'),\n",
    "                    opacity = 0.8,\n",
    "                    xaxis='x2',\n",
    "                    yaxis='y2')\n",
    "    \n",
    "    trace8 = go.Box(y = states_df.loc[states_df['sexo'] == \"M\", 'peso muito baixo'],\n",
    "                    name = 'Peso Muito Baixo-M',\n",
    "                    marker = {'color': '#ff0000'},\n",
    "                    xaxis='x3',\n",
    "                    yaxis='y3')\n",
    "                             \n",
    "    trace9 = go.Box(y = states_df.loc[states_df['sexo'] == \"F\", 'peso muito baixo'],\n",
    "                    name = 'Peso Muito Baixo-F',\n",
    "                    marker = {'color': '#ffcccc'},\n",
    "                    xaxis='x3',\n",
    "                    yaxis='y3')\n",
    "                              \n",
    "    trace10 = go.Box(y = states_df.loc[states_df['sexo'] == \"M\", 'peso baixo'],\n",
    "                    name = 'Peso Baixo-M',\n",
    "                    marker = {'color': '#ff8000'},\n",
    "                    xaxis='x3',\n",
    "                    yaxis='y3')\n",
    "                              \n",
    "    trace11 = go.Box(y = states_df.loc[states_df['sexo'] == \"F\", 'peso baixo'],\n",
    "                    name = 'Peso Baixo-F',\n",
    "                    marker = {'color': '#ffff99'},\n",
    "                    xaxis='x3',\n",
    "                    yaxis='y3')\n",
    "    \n",
    "    trace12 = go.Box(y = states_df.loc[states_df['sexo'] == \"M\", 'peso adequado'],\n",
    "                    name = 'Peso Adequado-M',\n",
    "                    marker = {'color': '#006600'},\n",
    "                    xaxis='x3',\n",
    "                    yaxis='y3')\n",
    "                              \n",
    "    trace13 = go.Box(y = states_df.loc[states_df['sexo'] == \"F\", 'peso adequado'],\n",
    "                    name = 'Peso Adequado-F',\n",
    "                    marker = {'color': '#99ff99'},\n",
    "                    xaxis='x3',\n",
    "                    yaxis='y3')\n",
    "    \n",
    "    trace14 = go.Box(y = states_df.loc[states_df['sexo'] == \"M\", 'peso elevado'],\n",
    "                    name = 'Peso Elevado-M',\n",
    "                    marker = {'color': '#000080'},\n",
    "                    xaxis='x3',\n",
    "                    yaxis='y3')\n",
    "                              \n",
    "    trace15 = go.Box(y = states_df.loc[states_df['sexo'] == \"F\", 'peso elevado'],\n",
    "                    name = 'Peso Elevado-F',\n",
    "                    marker = {'color': '#b3daff'},\n",
    "                    xaxis='x3',\n",
    "                    yaxis='y3')\n",
    "    \n",
    "    layout = go.Layout(\n",
    "            dict(title = \"Estado Por Peso \" + state_name),\n",
    "            xaxis=dict(\n",
    "            title = \"Masculino\", \n",
    "            domain=[0, 0.45]\n",
    "        ),\n",
    "        yaxis=dict(\n",
    "            domain=[0, 0.45]\n",
    "        ),\n",
    "         xaxis2=dict(\n",
    "            title = \"Feminino\",\n",
    "            domain=[0.55, 1]\n",
    "        ),\n",
    "        yaxis2=dict(\n",
    "            domain=[0, 0.45],\n",
    "            anchor='x2'\n",
    "        ),\n",
    "        xaxis3=dict(\n",
    "            domain=[0, 1],\n",
    "            anchor='y3'\n",
    "        ),\n",
    "        yaxis3=dict(\n",
    "            domain=[0.55, 1]\n",
    "        )\n",
    "    )\n",
    "        \n",
    "    data = [trace0,trace1, trace2, trace3, trace4, trace5, trace6, trace7,\n",
    "            trace8, trace9, trace10, trace11, trace12, trace13, trace14, trace15]\n",
    "    \n",
    "    fig = dict(data=data, layout=layout)\n",
    "    return fig"
   ]
  },
  {
   "cell_type": "markdown",
   "metadata": {},
   "source": [
    "A função abaixo garante que sejam gerados gráficos referentes a cada um dos estados do dataframe passado como parâmetro. O objetivo é exportar, para cada um dos estados, um arquivo .html contendo gráficos interativos referentes ao estado. "
   ]
  },
  {
   "cell_type": "code",
   "execution_count": 43,
   "metadata": {},
   "outputs": [],
   "source": [
    "def generate_plots_for_all_states(states_df):\n",
    "    # Criando esse novo DF para ter um DF apenas como uma lista de todos os\n",
    "    # estados e seus respectivos códigos\n",
    "    states_only = states_df.groupby(['cod uf', 'uf'], as_index = False).sum()\n",
    "    for index, row in states_only.iterrows():\n",
    "        fig = create_plots(row['cod uf'], states_df)\n",
    "        py.plot(fig, filename = 'plots/' + str(int(row['cod uf']))+ '.html', \n",
    "                auto_open=False)"
   ]
  },
  {
   "cell_type": "markdown",
   "metadata": {},
   "source": [
    "Agora podemos plotar. \n",
    "\n",
    "Criamos o dataframe desejado e chamamos a função para criar os gráficos para cada um dos estados. Os arquivos .html serão armazenados no diretório [/plots](\"https://github.com/victoraccete/ICD_20182/tree/final_notebook/plots\"). "
   ]
  },
  {
   "cell_type": "code",
   "execution_count": 45,
   "metadata": {},
   "outputs": [
    {
     "name": "stderr",
     "output_type": "stream",
     "text": [
      "C:\\Users\\Victor\\Anaconda3\\lib\\site-packages\\ipykernel_launcher.py:3: UserWarning:\n",
      "\n",
      "Boolean Series key will be reindexed to match DataFrame index.\n",
      "\n",
      "C:\\Users\\Victor\\Anaconda3\\lib\\site-packages\\ipykernel_launcher.py:38: UserWarning:\n",
      "\n",
      "Boolean Series key will be reindexed to match DataFrame index.\n",
      "\n"
     ]
    }
   ],
   "source": [
    "states_df = setup_df()\n",
    "generate_plots_for_all_states(states_df)"
   ]
  },
  {
   "cell_type": "markdown",
   "metadata": {},
   "source": [
    "#### Mapa interativo ####\n",
    "\n",
    "Agora, criaremos um mapa interativo em que o usuário pode clicar em cada um dos estados para obter . \n",
    "\n",
    "Para o mapa interativo, usaremos a biblioteca Bokeh. Primeiramente, transformamos o nosso dado em um arquivo do tipo geojson, passo necessário para a utilização da biblioteca."
   ]
  },
  {
   "cell_type": "code",
   "execution_count": 38,
   "metadata": {},
   "outputs": [],
   "source": [
    "# Criando um geojson\n",
    "geojson = merged_year.to_json()\n",
    "with open(\"jsondata.geojson\", \"w\") as f:\n",
    "    f.write(geojson)"
   ]
  },
  {
   "cell_type": "markdown",
   "metadata": {},
   "source": [
    "Importando os componentes necessários:"
   ]
  },
  {
   "cell_type": "code",
   "execution_count": 39,
   "metadata": {},
   "outputs": [],
   "source": [
    "from bokeh.io import show, output_file, reset_output#, output_notebook\n",
    "from bokeh.models import GeoJSONDataSource, HoverTool, LinearColorMapper\n",
    "from bokeh.plotting import figure, show\n",
    "from bokeh.palettes import Viridis256\n",
    "from bokeh.models import ColumnDataSource, OpenURL, TapTool\n",
    "\n",
    "#output_notebook()"
   ]
  },
  {
   "cell_type": "markdown",
   "metadata": {},
   "source": [
    "Então, graças aos passos executados anteriormente, o mapa já está pronto para ser plotado através do código abaixo.\n",
    "O mapa abrirá em uma nova página html, e os estados podem ser clicados para obter mais informações a respeito de cada um dos estados."
   ]
  },
  {
   "cell_type": "code",
   "execution_count": 40,
   "metadata": {},
   "outputs": [],
   "source": [
    "reset_output()  # Linha necessária, pois o Bokeh possui uma persistência fazendo com que múltiplas\n",
    "                # execuções do trecho abaixo fizesse com que o arquivo .html gerado fizesse vários\n",
    "                # mapas, um abaixo do outro\n",
    "output_file(\"interactiveplot.html\", mode=\"inline\")\n",
    "\n",
    "with open(r'jsondata.geojson') as f:\n",
    "    geo_src = GeoJSONDataSource(geojson=f.read())\n",
    "        \n",
    "cmap = LinearColorMapper(palette=Viridis256)\n",
    "\n",
    "TOOLS = \"tap,reset,hover,save\"\n",
    "\n",
    "br_map = figure(title='Estados do Brasil', tools=TOOLS, x_axis_location=None, y_axis_location=None, \n",
    "                width=500, height=500)\n",
    "br_map.grid.grid_line_color = None\n",
    "\n",
    "br_map.patches('xs', 'ys', fill_alpha=0.7, fill_color={'field': 'COD_UF', 'transform': cmap},\n",
    "         line_color='black', line_width=0.5, source=geo_src)\n",
    "\n",
    "hover = br_map.select_one(HoverTool)\n",
    "hover.point_policy = 'follow_mouse'\n",
    "hover.tooltips = [\n",
    "    ('Estado', '@ESTADOS'), \n",
    "    ('Região', '@REGIAO')]\n",
    "\n",
    "url = \"plots/@COD_UF.html\"\n",
    "taptool = br_map.select(type=TapTool)\n",
    "taptool.callback = OpenURL(url=url)\n",
    "\n",
    "show(br_map)"
   ]
  }
 ],
 "metadata": {
  "kernelspec": {
   "display_name": "Python 3",
   "language": "python",
   "name": "python3"
  },
  "language_info": {
   "codemirror_mode": {
    "name": "ipython",
    "version": 3
   },
   "file_extension": ".py",
   "mimetype": "text/x-python",
   "name": "python",
   "nbconvert_exporter": "python",
   "pygments_lexer": "ipython3",
   "version": "3.7.0"
  }
 },
 "nbformat": 4,
 "nbformat_minor": 2
}
